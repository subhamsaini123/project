{
 "cells": [
  {
   "cell_type": "code",
   "execution_count": 1,
   "id": "f7bd1a28",
   "metadata": {},
   "outputs": [],
   "source": [
    "# navi@gmail.com\n",
    "# subham@gmail.in"
   ]
  },
  {
   "cell_type": "code",
   "execution_count": 4,
   "id": "f4dfeae7",
   "metadata": {},
   "outputs": [
    {
     "name": "stdout",
     "output_type": "stream",
     "text": [
      "Enter Valid Mail-ID: 2jahn@gmail.com\n",
      "Invalid Mail-ID... First Letter Not Valid.\n"
     ]
    }
   ],
   "source": [
    "mail=input(\"Enter Valid Mail-ID: \")\n",
    "\n",
    "if mail.isalpha():\n",
    "    if (\"@\" in mail) and (mail.count(\"@\")==1):\n",
    "        if (mail[-4]==\".\") ^ (mail[-3]==\".\"):\n",
    "            pass\n",
    "        else:\n",
    "            print(\"Invalid Mail\")\n",
    "    else:\n",
    "        print(\"Invalid Mail.. Ampersand allow One Time.\")\n",
    "\n",
    "else:\n",
    "    print(\"Invalid Mail-ID... First Letter Not Valid.\")"
   ]
  },
  {
   "cell_type": "code",
   "execution_count": null,
   "id": "b1251f8c",
   "metadata": {},
   "outputs": [],
   "source": []
  }
 ],
 "metadata": {
  "kernelspec": {
   "display_name": "Python 3 (ipykernel)",
   "language": "python",
   "name": "python3"
  },
  "language_info": {
   "codemirror_mode": {
    "name": "ipython",
    "version": 3
   },
   "file_extension": ".py",
   "mimetype": "text/x-python",
   "name": "python",
   "nbconvert_exporter": "python",
   "pygments_lexer": "ipython3",
   "version": "3.10.9"
  }
 },
 "nbformat": 4,
 "nbformat_minor": 5
}
