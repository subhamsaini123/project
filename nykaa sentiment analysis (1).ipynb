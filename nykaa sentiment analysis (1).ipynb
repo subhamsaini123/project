{
 "cells": [
  {
   "cell_type": "code",
   "execution_count": 1,
   "id": "6892c379",
   "metadata": {},
   "outputs": [],
   "source": [
    "import numpy as np\n",
    "import pandas as pd"
   ]
  },
  {
   "cell_type": "code",
   "execution_count": 2,
   "id": "fefadd04",
   "metadata": {},
   "outputs": [
    {
     "data": {
      "text/html": [
       "<div>\n",
       "<style scoped>\n",
       "    .dataframe tbody tr th:only-of-type {\n",
       "        vertical-align: middle;\n",
       "    }\n",
       "\n",
       "    .dataframe tbody tr th {\n",
       "        vertical-align: top;\n",
       "    }\n",
       "\n",
       "    .dataframe thead th {\n",
       "        text-align: right;\n",
       "    }\n",
       "</style>\n",
       "<table border=\"1\" class=\"dataframe\">\n",
       "  <thead>\n",
       "    <tr style=\"text-align: right;\">\n",
       "      <th></th>\n",
       "      <th>content</th>\n",
       "      <th>sentiment_labels</th>\n",
       "    </tr>\n",
       "  </thead>\n",
       "  <tbody>\n",
       "    <tr>\n",
       "      <th>0</th>\n",
       "      <td>Nice shopping app</td>\n",
       "      <td>POSITIVE</td>\n",
       "    </tr>\n",
       "    <tr>\n",
       "      <th>1</th>\n",
       "      <td>Nykaa you yuyz are not giving my reward points...</td>\n",
       "      <td>NEGATIVE</td>\n",
       "    </tr>\n",
       "    <tr>\n",
       "      <th>2</th>\n",
       "      <td>Love it</td>\n",
       "      <td>POSITIVE</td>\n",
       "    </tr>\n",
       "    <tr>\n",
       "      <th>3</th>\n",
       "      <td>Is cod available?</td>\n",
       "      <td>NEGATIVE</td>\n",
       "    </tr>\n",
       "    <tr>\n",
       "      <th>4</th>\n",
       "      <td>Its awesome</td>\n",
       "      <td>POSITIVE</td>\n",
       "    </tr>\n",
       "    <tr>\n",
       "      <th>...</th>\n",
       "      <td>...</td>\n",
       "      <td>...</td>\n",
       "    </tr>\n",
       "    <tr>\n",
       "      <th>155539</th>\n",
       "      <td>Good</td>\n",
       "      <td>POSITIVE</td>\n",
       "    </tr>\n",
       "    <tr>\n",
       "      <th>155540</th>\n",
       "      <td>nykaa is the best online store for the purchas...</td>\n",
       "      <td>POSITIVE</td>\n",
       "    </tr>\n",
       "    <tr>\n",
       "      <th>155541</th>\n",
       "      <td>Very nice app</td>\n",
       "      <td>NEUTRAL</td>\n",
       "    </tr>\n",
       "    <tr>\n",
       "      <th>155542</th>\n",
       "      <td>Good</td>\n",
       "      <td>POSITIVE</td>\n",
       "    </tr>\n",
       "    <tr>\n",
       "      <th>155543</th>\n",
       "      <td>Love nykaa</td>\n",
       "      <td>POSITIVE</td>\n",
       "    </tr>\n",
       "  </tbody>\n",
       "</table>\n",
       "<p>155544 rows × 2 columns</p>\n",
       "</div>"
      ],
      "text/plain": [
       "                                                  content sentiment_labels\n",
       "0                                       Nice shopping app         POSITIVE\n",
       "1       Nykaa you yuyz are not giving my reward points...         NEGATIVE\n",
       "2                                                 Love it         POSITIVE\n",
       "3                                       Is cod available?         NEGATIVE\n",
       "4                                             Its awesome         POSITIVE\n",
       "...                                                   ...              ...\n",
       "155539                                               Good         POSITIVE\n",
       "155540  nykaa is the best online store for the purchas...         POSITIVE\n",
       "155541                                      Very nice app          NEUTRAL\n",
       "155542                                               Good         POSITIVE\n",
       "155543                                         Love nykaa         POSITIVE\n",
       "\n",
       "[155544 rows x 2 columns]"
      ]
     },
     "execution_count": 2,
     "metadata": {},
     "output_type": "execute_result"
    }
   ],
   "source": [
    "df=pd.read_csv(\"C:\\\\Users\\\\subha\\\\Downloads\\\\nykaa.csv\")\n",
    "df"
   ]
  },
  {
   "cell_type": "code",
   "execution_count": 3,
   "id": "9cb5c9af",
   "metadata": {},
   "outputs": [],
   "source": [
    "import seaborn as sns\n",
    "import matplotlib.pyplot as plt\n",
    "from nltk.sentiment.vader import SentimentIntensityAnalyzer\n",
    "sentiments = SentimentIntensityAnalyzer()"
   ]
  },
  {
   "cell_type": "code",
   "execution_count": 4,
   "id": "0e9af634",
   "metadata": {},
   "outputs": [
    {
     "data": {
      "image/png": "[encoded data removed]",
      "text/plain": [
       "<Figure size 500x500 with 1 Axes>"
      ]
     },
     "metadata": {},
     "output_type": "display_data"
    }
   ],
   "source": [
    "ratings = df[\"sentiment_labels\"].value_counts()\n",
    "numbers = ratings.index\n",
    "quantity = ratings.values\n",
    "\n",
    "custom_colors = [\"skyblue\", \"yellowgreen\", 'tomato', \"blue\", \"red\"]\n",
    "plt.figure(figsize=(5, 5))\n",
    "plt.pie(quantity, labels=numbers, colors=custom_colors)\n",
    "central_circle = plt.Circle((0, 0), 0.5, color='white')\n",
    "fig = plt.gcf()\n",
    "fig.gca().add_artist(central_circle)\n",
    "plt.rc('font', size=12)\n",
    "plt.title(\"nykaa Reviews Ratings\", fontsize=20)\n",
    "plt.show()"
   ]
  },
  {
   "cell_type": "code",
   "execution_count": 5,
   "id": "31a6cf8e",
   "metadata": {},
   "outputs": [
    {
     "name": "stdout",
     "output_type": "stream",
     "text": [
      "content             4\n",
      "sentiment_labels    0\n",
      "dtype: int64\n"
     ]
    }
   ],
   "source": [
    "print(df.isna().sum())"
   ]
  },
  {
   "cell_type": "code",
   "execution_count": 10,
   "id": "75eee1b8",
   "metadata": {},
   "outputs": [
    {
     "name": "stdout",
     "output_type": "stream",
     "text": [
      "                                                  content sentiment_labels  \\\n",
      "0                                       Nice shopping app         POSITIVE   \n",
      "1       Nykaa you yuyz are not giving my reward points...         NEGATIVE   \n",
      "2                                                 Love it         POSITIVE   \n",
      "3                                       Is cod available?         NEGATIVE   \n",
      "4                                             Its awesome         POSITIVE   \n",
      "...                                                   ...              ...   \n",
      "155539                                               Good         POSITIVE   \n",
      "155540  nykaa is the best online store for the purchas...         POSITIVE   \n",
      "155541                                      Very nice app          NEUTRAL   \n",
      "155542                                               Good         POSITIVE   \n",
      "155543                                         Love nykaa         POSITIVE   \n",
      "\n",
      "        sentiment_score Sentiment  \n",
      "0                0.4215  Positive  \n",
      "1               -0.6740  Negative  \n",
      "2                0.6369  Positive  \n",
      "3                0.0000   Neutral  \n",
      "4                0.6249  Positive  \n",
      "...                 ...       ...  \n",
      "155539           0.4404  Positive  \n",
      "155540           0.8555  Positive  \n",
      "155541           0.4754  Positive  \n",
      "155542           0.4404  Positive  \n",
      "155543           0.6369  Positive  \n",
      "\n",
      "[155544 rows x 4 columns]\n"
     ]
    }
   ],
   "source": [
    "import pandas as pd\n",
    "from nltk.sentiment.vader import SentimentIntensityAnalyzer\n",
    "\n",
    "\n",
    "\n",
    "# Initialize VADER SentimentIntensityAnalyzer\n",
    "sid = SentimentIntensityAnalyzer()\n",
    "\n",
    "# Function to categorize sentiment\n",
    "def categorize_sentiment(score):\n",
    "    if score >= 0.05:\n",
    "        return 'Positive'\n",
    "    elif score <= -0.05:\n",
    "        return 'Negative'\n",
    "    else:\n",
    "        return 'Neutral'\n",
    "\n",
    "# Calculate sentiment scores and categorize\n",
    "df['sentiment_score'] = df['content'].apply(lambda x: sid.polarity_scores(str(x))['compound'])\n",
    "df['Sentiment'] = df['sentiment_score'].apply(categorize_sentiment)\n",
    "\n",
    "# Display the DataFrame with sentiment scores and categories\n",
    "print(df)\n"
   ]
  },
  {
   "cell_type": "code",
   "execution_count": 11,
   "id": "c3f954d9",
   "metadata": {},
   "outputs": [
    {
     "data": {
      "text/html": [
       "<div>\n",
       "<style scoped>\n",
       "    .dataframe tbody tr th:only-of-type {\n",
       "        vertical-align: middle;\n",
       "    }\n",
       "\n",
       "    .dataframe tbody tr th {\n",
       "        vertical-align: top;\n",
       "    }\n",
       "\n",
       "    .dataframe thead th {\n",
       "        text-align: right;\n",
       "    }\n",
       "</style>\n",
       "<table border=\"1\" class=\"dataframe\">\n",
       "  <thead>\n",
       "    <tr style=\"text-align: right;\">\n",
       "      <th></th>\n",
       "      <th>content</th>\n",
       "      <th>sentiment_labels</th>\n",
       "      <th>sentiment_score</th>\n",
       "      <th>Sentiment</th>\n",
       "    </tr>\n",
       "  </thead>\n",
       "  <tbody>\n",
       "    <tr>\n",
       "      <th>0</th>\n",
       "      <td>Nice shopping app</td>\n",
       "      <td>POSITIVE</td>\n",
       "      <td>0.4215</td>\n",
       "      <td>Positive</td>\n",
       "    </tr>\n",
       "    <tr>\n",
       "      <th>1</th>\n",
       "      <td>Nykaa you yuyz are not giving my reward points...</td>\n",
       "      <td>NEGATIVE</td>\n",
       "      <td>-0.6740</td>\n",
       "      <td>Negative</td>\n",
       "    </tr>\n",
       "    <tr>\n",
       "      <th>2</th>\n",
       "      <td>Love it</td>\n",
       "      <td>POSITIVE</td>\n",
       "      <td>0.6369</td>\n",
       "      <td>Positive</td>\n",
       "    </tr>\n",
       "    <tr>\n",
       "      <th>3</th>\n",
       "      <td>Is cod available?</td>\n",
       "      <td>NEGATIVE</td>\n",
       "      <td>0.0000</td>\n",
       "      <td>Neutral</td>\n",
       "    </tr>\n",
       "    <tr>\n",
       "      <th>4</th>\n",
       "      <td>Its awesome</td>\n",
       "      <td>POSITIVE</td>\n",
       "      <td>0.6249</td>\n",
       "      <td>Positive</td>\n",
       "    </tr>\n",
       "  </tbody>\n",
       "</table>\n",
       "</div>"
      ],
      "text/plain": [
       "                                             content sentiment_labels  \\\n",
       "0                                  Nice shopping app         POSITIVE   \n",
       "1  Nykaa you yuyz are not giving my reward points...         NEGATIVE   \n",
       "2                                            Love it         POSITIVE   \n",
       "3                                  Is cod available?         NEGATIVE   \n",
       "4                                        Its awesome         POSITIVE   \n",
       "\n",
       "   sentiment_score Sentiment  \n",
       "0           0.4215  Positive  \n",
       "1          -0.6740  Negative  \n",
       "2           0.6369  Positive  \n",
       "3           0.0000   Neutral  \n",
       "4           0.6249  Positive  "
      ]
     },
     "execution_count": 11,
     "metadata": {},
     "output_type": "execute_result"
    }
   ],
   "source": [
    "df.head()"
   ]
  },
  {
   "cell_type": "code",
   "execution_count": 12,
   "id": "9fbff224",
   "metadata": {},
   "outputs": [
    {
     "data": {
      "text/plain": [
       "Positive    123384\n",
       "Neutral      20824\n",
       "Negative     11336\n",
       "Name: Sentiment, dtype: int64"
      ]
     },
     "execution_count": 12,
     "metadata": {},
     "output_type": "execute_result"
    }
   ],
   "source": [
    "df[\"Sentiment\"].value_counts()"
   ]
  },
  {
   "cell_type": "code",
   "execution_count": 25,
   "id": "e0189040",
   "metadata": {},
   "outputs": [
    {
     "name": "stdout",
     "output_type": "stream",
     "text": [
      "The URL https://www.magicbricks.com/property-for-sale-rent-in-Jaipur/residential-real-estate-Jaipur returned a 200 OK response.\n"
     ]
    }
   ],
   "source": [
    "import requests\n",
    "\n",
    "# Define the URL you want to check\n",
    "url = 'https://www.magicbricks.com/property-for-sale-rent-in-Jaipur/residential-real-estate-Jaipur'  # Replace this with the URL you want to check\n",
    "\n",
    "# Send a GET request to the URL\n",
    "response = requests.get(url)\n",
    "\n",
    "# Check the status code\n",
    "if response.status_code == 200:\n",
    "    print(f\"The URL {url} returned a 200 OK response.\")\n",
    "else:\n",
    "    print(f\"The URL {url} did not return a 200 OK response. Status code: {response.status_code}\")\n"
   ]
  },
  {
   "cell_type": "code",
   "execution_count": 20,
   "id": "2f01b451",
   "metadata": {},
   "outputs": [],
   "source": [
    "# pip install praw\n"
   ]
  },
  {
   "cell_type": "code",
   "execution_count": null,
   "id": "21270dd8",
   "metadata": {},
   "outputs": [],
   "source": []
  }
 ],
 "metadata": {
  "kernelspec": {
   "display_name": "Python 3 (ipykernel)",
   "language": "python",
   "name": "python3"
  },
  "language_info": {
   "codemirror_mode": {
    "name": "ipython",
    "version": 3
   },
   "file_extension": ".py",
   "mimetype": "text/x-python",
   "name": "python",
   "nbconvert_exporter": "python",
   "pygments_lexer": "ipython3",
   "version": "3.10.9"
  }
 },
 "nbformat": 4,
 "nbformat_minor": 5
}
